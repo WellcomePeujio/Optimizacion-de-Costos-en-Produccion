{
  "nbformat": 4,
  "nbformat_minor": 0,
  "metadata": {
    "colab": {
      "private_outputs": true,
      "provenance": [],
      "authorship_tag": "ABX9TyMyhiXZBDzSOaka89JKw209",
      "include_colab_link": true
    },
    "kernelspec": {
      "name": "python3",
      "display_name": "Python 3"
    },
    "language_info": {
      "name": "python"
    }
  },
  "cells": [
    {
      "cell_type": "markdown",
      "metadata": {
        "id": "view-in-github",
        "colab_type": "text"
      },
      "source": [
        "<a href=\"https://colab.research.google.com/github/WellcomePeujio/Optimizacion-de-Costos-en-Produccion/blob/main/Optimizaci%C3%B3nCostosProducci%C3%B3n.ipynb\" target=\"_parent\"><img src=\"https://colab.research.google.com/assets/colab-badge.svg\" alt=\"Open In Colab\"/></a>"
      ]
    },
    {
      "cell_type": "markdown",
      "source": [
        "# Optimización de Costos en Producción\n",
        "\n",
        "## Enunciado\n",
        "\n",
        "Una empresa produce gadgets, cuyos costos de producción \\$ C(x) \\$ en miles de dólares, están dados por la función:\n",
        "\n",
        "$$ C(x) = 0.05x^2 - 1.2x + 50 $$\n",
        "\n",
        "donde \\$( x \\$) es el número de gadgets producidos en miles.\n",
        "\n",
        "## Preguntas\n",
        "\n",
        "1. **Calcular el número de gadgets que minimiza el costo de producción.**\n",
        "2. **Determinar el costo mínimo correspondiente.**\n"
      ],
      "metadata": {
        "id": "lZpPLq2YQasq"
      }
    },
    {
      "cell_type": "markdown",
      "source": [
        "# Desarrollo Matemático para la Optimización de Costos en Producción\n",
        "\n",
        "## Función de Costo\n",
        "\n",
        "La función de costo \\$C(x) \\$ está dada por:\n",
        "\n",
        "$$ C(x) = 0.05x^2 - 1.2x + 50 $$\n",
        "\n",
        "donde \\$( x \\$) representa el número de gadgets producidos en miles.\n",
        "\n",
        "## Derivada de la Función de Costo\n",
        "\n",
        "Para encontrar el número de gadgets que minimiza el costo, necesitamos calcular la derivada de \\$ C(x) \\$ y encontrar sus ceros (puntos críticos).\n",
        "\n",
        "La derivada primera de \\$ C(x) \\$ es:\n",
        "\n",
        "$$ C'(x) = 0.1x - 1.2 $$\n",
        "\n",
        "## Encontrar el Punto Crítico\n",
        "\n",
        "Igualamos la derivada a cero para encontrar el punto crítico:\n",
        "\n",
        "$$ 0.1x - 1.2 = 0 $$\n",
        "\n",
        "Resolviendo para \\$( x \\$), obtenemos:\n",
        "\n",
        "$$ 0.1x = 1.2 $$\n",
        "$$ x = 12 $$\n",
        "\n",
        "Esto significa que producir 12,000 gadgets minimiza el costo de producción.\n",
        "\n",
        "## Costo Mínimo\n",
        "\n",
        "Para encontrar el costo mínimo, sustituimos \\$( x = 12 \\$) en la función de costo original:\n",
        "\n",
        "$$ C(12) = 0.05(12)^2 - 1.2(12) + 50 $$\n",
        "$$ C(12) = 0.05(144) - 14.4 + 50 $$\n",
        "$$ C(12) = 7.2 - 14.4 + 50 $$\n",
        "$$ C(12) = 42.8 $$\n",
        "\n",
        "El costo mínimo es de \\$42,800 cuando se producen 12,000 gadgets.\n",
        "\n",
        "## Conclusión\n",
        "\n",
        "Produciendo 12,000 gadgets, la empresa alcanza el costo mínimo de \\$42,800.\n"
      ],
      "metadata": {
        "id": "p_g_J2thR19G"
      }
    },
    {
      "cell_type": "code",
      "source": [
        "import numpy as np\n",
        "import matplotlib.pyplot as plt\n",
        "\n",
        "# Definimos la función de costo\n",
        "def C(x):\n",
        "    return 0.05 * x**2 - 1.2 * x + 50\n",
        "\n",
        "# Definimos la derivada de la función de costo\n",
        "def C_prime(x):\n",
        "    return 0.1 * x - 1.2\n",
        "\n",
        "# Generamos puntos para visualizar la función y su derivada\n",
        "x = np.linspace(0, 30, 400)\n",
        "costs = C(x)\n",
        "marginal_costs = C_prime(x)\n",
        "\n",
        "# Punto de mínimo costo\n",
        "x_min = 12\n",
        "cost_min = C(x_min)\n",
        "\n",
        "# Visualización\n",
        "plt.figure(figsize=(10, 5))\n",
        "plt.subplot(1, 2, 1)\n",
        "plt.plot(x, costs, label='Costo Total $C(x)$')\n",
        "plt.scatter(x_min, cost_min, color='red')  # Punto de mínimo costo\n",
        "plt.title('Función de Costo')\n",
        "plt.xlabel('Gadgets producidos (miles)')\n",
        "plt.ylabel('Costo Total (miles de $)')\n",
        "plt.legend()\n",
        "\n",
        "plt.subplot(1, 2, 2)\n",
        "plt.plot(x, marginal_costs, label='Costo Marginal $C\\'(x)$')\n",
        "plt.axhline(0, color='gray', linewidth=0.5)\n",
        "plt.scatter(x_min, C_prime(x_min), color='red')  # Costo marginal en el mínimo\n",
        "plt.title('Costo Marginal')\n",
        "plt.xlabel('Gadgets producidos (miles)')\n",
        "plt.ylabel('Costo Marginal ($)')\n",
        "plt.legend()\n",
        "\n",
        "plt.tight_layout()\n",
        "plt.show()\n",
        "\n",
        "x_min, cost_min\n"
      ],
      "metadata": {
        "id": "R1LRFSFHThut"
      },
      "execution_count": null,
      "outputs": []
    }
  ]
}